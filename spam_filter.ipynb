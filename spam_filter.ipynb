{
 "cells": [
  {
   "cell_type": "markdown",
   "source": [
    "# Spam Filtering"
   ],
   "metadata": {
    "collapsed": false
   },
   "id": "136e75fa0e8977"
  },
  {
   "cell_type": "markdown",
   "source": [
    "## 1. Install necessary libraries"
   ],
   "metadata": {
    "collapsed": false
   },
   "id": "7858faf9e6dd81ba"
  },
  {
   "cell_type": "code",
   "execution_count": null,
   "id": "initial_id",
   "metadata": {
    "collapsed": true
   },
   "outputs": [],
   "source": [
    "!pip install scikit-learn"
   ]
  },
  {
   "cell_type": "markdown",
   "source": [
    "## 2. Import necessary libraries"
   ],
   "metadata": {
    "collapsed": false
   },
   "id": "2bde333da59d7ded"
  },
  {
   "cell_type": "code",
   "outputs": [],
   "source": [
    "from sklearn.feature_extraction.text import CountVectorizer\n",
    "from sklearn.naive_bayes import MultinomialNB\n",
    "from sklearn.pipeline import make_pipeline"
   ],
   "metadata": {
    "collapsed": false
   },
   "id": "3db1e9741a183e9",
   "execution_count": null
  },
  {
   "cell_type": "markdown",
   "source": [
    "## 3. Create a dataset"
   ],
   "metadata": {
    "collapsed": false
   },
   "id": "6c51428df9cd5f10"
  },
  {
   "cell_type": "code",
   "outputs": [],
   "source": [
    "data = [\n",
    "    ('Free money!!!', 'spam'),\n",
    "    ('Hi, how are you?', 'ham'),\n",
    "    ('Limited time offer', 'spam'),\n",
    "    ('Meeting tomorrow?', 'ham')\n",
    "]\n",
    "\n",
    "# Separate features and labels\n",
    "texts, labels = zip(*data)"
   ],
   "metadata": {
    "collapsed": false,
    "ExecuteTime": {
     "end_time": "2024-08-24T17:38:30.352465100Z",
     "start_time": "2024-08-24T17:38:30.347464400Z"
    }
   },
   "id": "2e51575f1cb7df24",
   "execution_count": 3
  },
  {
   "cell_type": "markdown",
   "source": [
    "## 4. Create a pipeline with a vectorizer and classifier"
   ],
   "metadata": {
    "collapsed": false
   },
   "id": "1f98a2fbd499bab5"
  },
  {
   "cell_type": "code",
   "outputs": [],
   "source": [
    "model = make_pipeline(CountVectorizer(), MultinomialNB())"
   ],
   "metadata": {
    "collapsed": false,
    "ExecuteTime": {
     "end_time": "2024-08-24T17:38:31.442792100Z",
     "start_time": "2024-08-24T17:38:31.430734500Z"
    }
   },
   "id": "af56838d41c64f10",
   "execution_count": 4
  },
  {
   "cell_type": "markdown",
   "source": [
    "## 5. Train and test the model"
   ],
   "metadata": {
    "collapsed": false
   },
   "id": "16e12b6b9d0d40e8"
  },
  {
   "cell_type": "code",
   "outputs": [
    {
     "name": "stdout",
     "output_type": "stream",
     "text": [
      "Text: \"Win a free car!\" => Prediction: spam\n",
      "Text: \"Can we reschedule our meeting?\" => Prediction: ham\n"
     ]
    }
   ],
   "source": [
    "model.fit(texts, labels)\n",
    "\n",
    "# Test the model\n",
    "test_texts = ['Win a free car!', 'Can we reschedule our meeting?']\n",
    "predictions = model.predict(test_texts)\n",
    "\n",
    "for text, label in zip(test_texts, predictions):\n",
    "    print(f'Text: \"{text}\" => Prediction: {label}')"
   ],
   "metadata": {
    "collapsed": false,
    "ExecuteTime": {
     "end_time": "2024-08-24T17:38:32.552640200Z",
     "start_time": "2024-08-24T17:38:32.540381700Z"
    }
   },
   "id": "8f51fdd9b6f3fa30",
   "execution_count": 5
  },
  {
   "cell_type": "code",
   "outputs": [],
   "source": [],
   "metadata": {
    "collapsed": false
   },
   "id": "e6ab9328ef7db639"
  }
 ],
 "metadata": {
  "kernelspec": {
   "display_name": "Python 3",
   "language": "python",
   "name": "python3"
  },
  "language_info": {
   "codemirror_mode": {
    "name": "ipython",
    "version": 2
   },
   "file_extension": ".py",
   "mimetype": "text/x-python",
   "name": "python",
   "nbconvert_exporter": "python",
   "pygments_lexer": "ipython2",
   "version": "2.7.6"
  }
 },
 "nbformat": 4,
 "nbformat_minor": 5
}

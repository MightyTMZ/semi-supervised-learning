{
 "cells": [
  {
   "cell_type": "markdown",
   "source": [
    "# Analyzing Movie Reviews using Natural Language Processing (NLP)"
   ],
   "metadata": {
    "collapsed": false
   },
   "id": "6e6dc3c88ad61e0e"
  },
  {
   "cell_type": "markdown",
   "source": [
    "## 1. Install necessary libraries"
   ],
   "metadata": {
    "collapsed": false
   },
   "id": "20dd229c78e85f94"
  },
  {
   "cell_type": "code",
   "outputs": [
    {
     "name": "stdout",
     "output_type": "stream",
     "text": [
      "Collecting nltk\n",
      "  Using cached nltk-3.9.1-py3-none-any.whl.metadata (2.9 kB)\n",
      "Requirement already satisfied: pandas in c:\\users\\tomzh\\anaconda3\\envs\\semi-supervised-learning\\lib\\site-packages (2.0.3)\n",
      "Collecting click (from nltk)\n",
      "  Using cached click-8.1.7-py3-none-any.whl.metadata (3.0 kB)\n",
      "Collecting joblib (from nltk)\n",
      "  Using cached joblib-1.4.2-py3-none-any.whl.metadata (5.4 kB)\n",
      "Collecting regex>=2021.8.3 (from nltk)\n",
      "  Downloading regex-2024.7.24-cp38-cp38-win_amd64.whl.metadata (41 kB)\n",
      "Collecting tqdm (from nltk)\n",
      "  Using cached tqdm-4.66.5-py3-none-any.whl.metadata (57 kB)\n",
      "Requirement already satisfied: python-dateutil>=2.8.2 in c:\\users\\tomzh\\anaconda3\\envs\\semi-supervised-learning\\lib\\site-packages (from pandas) (2.9.0.post0)\n",
      "Requirement already satisfied: pytz>=2020.1 in c:\\users\\tomzh\\anaconda3\\envs\\semi-supervised-learning\\lib\\site-packages (from pandas) (2024.1)\n",
      "Requirement already satisfied: tzdata>=2022.1 in c:\\users\\tomzh\\anaconda3\\envs\\semi-supervised-learning\\lib\\site-packages (from pandas) (2023.3)\n",
      "Requirement already satisfied: numpy>=1.20.3 in c:\\users\\tomzh\\anaconda3\\envs\\semi-supervised-learning\\lib\\site-packages (from pandas) (1.24.3)\n",
      "Requirement already satisfied: six>=1.5 in c:\\users\\tomzh\\anaconda3\\envs\\semi-supervised-learning\\lib\\site-packages (from python-dateutil>=2.8.2->pandas) (1.16.0)\n",
      "Requirement already satisfied: colorama in c:\\users\\tomzh\\anaconda3\\envs\\semi-supervised-learning\\lib\\site-packages (from click->nltk) (0.4.6)\n",
      "Using cached nltk-3.9.1-py3-none-any.whl (1.5 MB)\n",
      "Downloading regex-2024.7.24-cp38-cp38-win_amd64.whl (269 kB)\n",
      "Using cached click-8.1.7-py3-none-any.whl (97 kB)\n",
      "Using cached joblib-1.4.2-py3-none-any.whl (301 kB)\n",
      "Using cached tqdm-4.66.5-py3-none-any.whl (78 kB)\n",
      "Installing collected packages: tqdm, regex, joblib, click, nltk\n",
      "Successfully installed click-8.1.7 joblib-1.4.2 nltk-3.9.1 regex-2024.7.24 tqdm-4.66.5\n"
     ]
    }
   ],
   "source": [
    "!pip install nltk pandas"
   ],
   "metadata": {
    "collapsed": false,
    "ExecuteTime": {
     "end_time": "2024-08-24T16:09:14.483246800Z",
     "start_time": "2024-08-24T16:09:05.727636200Z"
    }
   },
   "id": "7d34ccc1f98a4376",
   "execution_count": 1
  },
  {
   "cell_type": "markdown",
   "source": [
    "## 2. Import neccesary libraries"
   ],
   "metadata": {
    "collapsed": false
   },
   "id": "634533cdb406bd2f"
  },
  {
   "cell_type": "code",
   "outputs": [],
   "source": [
    "import nltk\n",
    "from nltk.sentiment import SentimentIntensityAnalyzer\n",
    "import pandas as pd"
   ],
   "metadata": {
    "collapsed": false,
    "ExecuteTime": {
     "end_time": "2024-08-24T16:11:29.460157600Z",
     "start_time": "2024-08-24T16:11:29.443164500Z"
    }
   },
   "id": "780b78aacd2ddf97",
   "execution_count": 7
  },
  {
   "cell_type": "markdown",
   "source": [
    "## 3. Download NLTK data (only required once)"
   ],
   "metadata": {
    "collapsed": false
   },
   "id": "9b81a0f575cc34df"
  },
  {
   "cell_type": "code",
   "outputs": [
    {
     "name": "stderr",
     "output_type": "stream",
     "text": [
      "[nltk_data] Downloading package vader_lexicon to\n",
      "[nltk_data]     C:\\Users\\tomzh\\AppData\\Roaming\\nltk_data...\n",
      "[nltk_data]   Package vader_lexicon is already up-to-date!\n"
     ]
    },
    {
     "data": {
      "text/plain": "True"
     },
     "execution_count": 14,
     "metadata": {},
     "output_type": "execute_result"
    }
   ],
   "source": [
    "nltk.download(\"vader_lexicon\")"
   ],
   "metadata": {
    "collapsed": false,
    "ExecuteTime": {
     "end_time": "2024-08-24T17:26:44.841715Z",
     "start_time": "2024-08-24T17:26:44.690416900Z"
    }
   },
   "id": "5e64cbab6d50def6",
   "execution_count": 14
  },
  {
   "cell_type": "markdown",
   "source": [
    "## 4. Create a dataset or import an external one"
   ],
   "metadata": {
    "collapsed": false
   },
   "id": "502f2ebba3d68149"
  },
  {
   "cell_type": "code",
   "outputs": [],
   "source": [
    "reviews = [\n",
    "    \"I loved the movie. It was fantastic!\",\n",
    "    \"The movie was okay, but could be better.\",\n",
    "    \"I didn't like the movie at all. It was a waste of time.\"\n",
    "]"
   ],
   "metadata": {
    "collapsed": false,
    "ExecuteTime": {
     "end_time": "2024-08-24T17:26:49.399815300Z",
     "start_time": "2024-08-24T17:26:49.391158600Z"
    }
   },
   "id": "39c766f1247ce7ca",
   "execution_count": 15
  },
  {
   "cell_type": "markdown",
   "source": [
    "## 5. Analyze sentiment"
   ],
   "metadata": {
    "collapsed": false
   },
   "id": "a10b6340171ea562"
  },
  {
   "cell_type": "code",
   "outputs": [],
   "source": [
    "sentiments = [sia.polarity_scores(review) for review in reviews]\n",
    "df = pd.DataFrame(sentiments, index=reviews)\n",
    "\n",
    "df"
   ],
   "metadata": {
    "collapsed": false
   },
   "id": "de7e869135341559",
   "execution_count": null
  }
 ],
 "metadata": {
  "kernelspec": {
   "display_name": "Python 3",
   "language": "python",
   "name": "python3"
  },
  "language_info": {
   "codemirror_mode": {
    "name": "ipython",
    "version": 2
   },
   "file_extension": ".py",
   "mimetype": "text/x-python",
   "name": "python",
   "nbconvert_exporter": "python",
   "pygments_lexer": "ipython2",
   "version": "2.7.6"
  }
 },
 "nbformat": 4,
 "nbformat_minor": 5
}
